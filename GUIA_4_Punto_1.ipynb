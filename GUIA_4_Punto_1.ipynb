{
 "cells": [
  {
   "cell_type": "code",
   "execution_count": null,
   "id": "63798eff",
   "metadata": {},
   "outputs": [],
   "source": [
    "#pip uninstall openpyxl"
   ]
  },
  {
   "cell_type": "code",
   "execution_count": null,
   "id": "2b03e74b",
   "metadata": {},
   "outputs": [],
   "source": [
    "#pip install openpyxl==3.1.0"
   ]
  },
  {
   "cell_type": "code",
   "execution_count": null,
   "id": "d9d1bda3",
   "metadata": {},
   "outputs": [],
   "source": [
    "#pip install --upgrade openpyxl"
   ]
  },
  {
   "cell_type": "code",
   "execution_count": null,
   "id": "1f7b4386",
   "metadata": {},
   "outputs": [],
   "source": [
    "#pip install tabulate prettytable"
   ]
  },
  {
   "cell_type": "code",
   "execution_count": 5,
   "id": "c830a27e",
   "metadata": {},
   "outputs": [
    {
     "name": "stdout",
     "output_type": "stream",
     "text": [
      "Defaulting to user installation because normal site-packages is not writeable\n",
      "Requirement already satisfied: tabulate in c:\\programdata\\anaconda3\\lib\\site-packages (0.8.10)\n",
      "Note: you may need to restart the kernel to use updated packages.\n"
     ]
    }
   ],
   "source": [
    "#pip install tabulate"
   ]
  },
  {
   "cell_type": "code",
   "execution_count": 1,
   "id": "cb328ac1",
   "metadata": {},
   "outputs": [
    {
     "name": "stderr",
     "output_type": "stream",
     "text": [
      "C:\\Users\\Olga Lucia\\AppData\\Roaming\\Python\\Python310\\site-packages\\pandas\\core\\arrays\\masked.py:60: UserWarning: Pandas requires version '1.3.6' or newer of 'bottleneck' (version '1.3.5' currently installed).\n",
      "  from pandas.core import (\n"
     ]
    }
   ],
   "source": [
    "import pandas as pd\n",
    "from datetime import datetime\n",
    "from tabulate import tabulate\n",
    "\n",
    "# Definir rangos para la validación de anomalías\n",
    "rango_presion = (15, 20)  # Bares\n",
    "rango_temperatura = (10, 50) # Grados centigrados\n",
    "rango_volumen = (10, 30) # Métros cúbicos\n",
    "\n",
    "archivo_excel = 'Datos_Contugas.xlsx'\n",
    "\n",
    "# Cargar todas las hojas que empiezan con \"CLIENTE\"\n",
    "clientes = pd.read_excel(archivo_excel, sheet_name=None)\n",
    "resumen_datos = []"
   ]
  },
  {
   "cell_type": "code",
   "execution_count": 2,
   "id": "de77607e",
   "metadata": {},
   "outputs": [
    {
     "name": "stdout",
     "output_type": "stream",
     "text": [
      "📊 Resumen exportado exitosamente a 'Resumen_Clientes_Optimizado.xlsx'\n"
     ]
    }
   ],
   "source": [
    "# Función para generar el resumen por cliente\n",
    "def generar_resumen_cliente(df, nombre_hoja):\n",
    "    # Convertir la columna 'Fecha' a tipo datetime\n",
    "    df['Fecha'] = pd.to_datetime(df['Fecha'], errors='coerce')\n",
    "    \n",
    "    # 1. Granularidad\n",
    "    df = df.sort_values(by='Fecha')\n",
    "    granularidad = df['Fecha'].diff().min().total_seconds() / 3600 if df['Fecha'].diff().min() else None\n",
    "\n",
    "    # 2. Valores anómalos\n",
    "    num_anomalos_presion = df[(df['Presion'] < rango_presion[0]) | (df['Presion'] > rango_presion[1])].shape[0]\n",
    "    num_anomalos_temperatura = df[(df['Temperatura'] < rango_temperatura[0]) | (df['Temperatura'] > rango_temperatura[1])].shape[0]\n",
    "    num_anomalos_volumen = df[(df['Volumen'] < rango_volumen[0]) | (df['Volumen'] > rango_volumen[1])].shape[0]\n",
    "\n",
    "    # 3. Registros duplicados\n",
    "    registros_duplicados = df.duplicated().sum()\n",
    "\n",
    "    # 4. Porcentaje de datos faltantes\n",
    "    porcentaje_faltantes = (df.isnull().sum().sum() / df.size) * 100\n",
    "\n",
    "    # 5. Edad promedio de los datos\n",
    "    if 'Fecha' in df.columns:\n",
    "        df['Edad_Datos'] = (datetime.now() - df['Fecha']).dt.days\n",
    "        edad_promedio = df['Edad_Datos'].mean() if not df['Edad_Datos'].isnull().all() else None\n",
    "    else:\n",
    "        edad_promedio = None\n",
    "\n",
    "    # 6. Correlación promedio\n",
    "    correlacion = df[['Presion', 'Temperatura', 'Volumen']].corr().mean().mean()\n",
    "\n",
    "    # Añadir resultados al resumen\n",
    "    resumen_datos.append({\n",
    "        'Cliente': nombre_hoja,\n",
    "        'Granularidad (hrs)': granularidad,\n",
    "        'Anomalías Presión': num_anomalos_presion,\n",
    "        'Anomalías Temperatura': num_anomalos_temperatura,\n",
    "        'Anomalías Volumen': num_anomalos_volumen,\n",
    "        'Duplicados': registros_duplicados,\n",
    "        'Faltantes (%)': round(porcentaje_faltantes, 2),\n",
    "        'Edad Promedio (días)': round(edad_promedio, 2) if edad_promedio else None,\n",
    "        'Correlación Promedio': round(correlacion, 2) if not pd.isna(correlacion) else None\n",
    "    })\n",
    "\n",
    "# Procesar cada hoja\n",
    "for hoja, df in clientes.items():\n",
    "    if hoja.startswith('CLIENTE'):\n",
    "        generar_resumen_cliente(df, hoja)\n",
    "\n",
    "# Convertir la lista a DataFrame\n",
    "resumen_df = pd.DataFrame(resumen_datos)\n",
    "\n",
    "# Exportar a un archivo Excel\n",
    "nombre_archivo_excel = 'Resumen_Clientes_Optimizado.xlsx'\n",
    "resumen_df.to_excel(nombre_archivo_excel, index=False)\n",
    "print(f\"📊 Resumen exportado exitosamente a '{nombre_archivo_excel}'\")\n"
   ]
  },
  {
   "cell_type": "code",
   "execution_count": null,
   "id": "fa0b40ad",
   "metadata": {},
   "outputs": [],
   "source": []
  }
 ],
 "metadata": {
  "kernelspec": {
   "display_name": "Python 3 (ipykernel)",
   "language": "python",
   "name": "python3"
  },
  "language_info": {
   "codemirror_mode": {
    "name": "ipython",
    "version": 3
   },
   "file_extension": ".py",
   "mimetype": "text/x-python",
   "name": "python",
   "nbconvert_exporter": "python",
   "pygments_lexer": "ipython3",
   "version": "3.10.9"
  }
 },
 "nbformat": 4,
 "nbformat_minor": 5
}
